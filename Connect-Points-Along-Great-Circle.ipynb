{
 "cells": [
  {
   "cell_type": "code",
   "execution_count": null,
   "metadata": {},
   "outputs": [],
   "source": [
    "#!pip install sympy # if sympy is not installed\n",
    "#!pip install meshio # if meshio is not installed\n",
    "#!pip install math # if math is not installed\n",
    "#!pip install numpy # if numpy is not installed"
   ]
  },
  {
   "cell_type": "code",
   "execution_count": null,
   "metadata": {},
   "outputs": [],
   "source": [
    "import sys\n",
    "# sys.path.insert(1, '/Applications/pygplates_rev18_python27_MacOS64/')\n",
    "# import pygplates\n",
    "# import os\n",
    "import numpy as np    \n",
    "# import csv\n",
    "import meshio\n",
    "import math\n",
    "# from pylab import *\n",
    "# import netCDF4 as nc\n",
    "# from netCDF4 import Dataset \n",
    "# import matplotlib.pyplot as plt\n"
   ]
  },
  {
   "cell_type": "code",
   "execution_count": null,
   "metadata": {},
   "outputs": [],
   "source": [
    "from sympy import symbols, Eq, solve\n",
    "\n"
   ]
  },
  {
   "cell_type": "markdown",
   "metadata": {},
   "source": [
    "# Connect two points along a great circle"
   ]
  },
  {
   "cell_type": "code",
   "execution_count": null,
   "metadata": {},
   "outputs": [],
   "source": [
    "def Geographic2Cartesian(Lon,Lat):\n",
    "    theta=180.0\n",
    "    phi=180.0\n",
    "    X=np.cos(Lat*np.pi/theta)*np.cos(Lon*np.pi/phi)\n",
    "    Y=np.cos(Lat*np.pi/theta)*np.sin(Lon*np.pi/phi)\n",
    "    Z=np.sin(Lat*np.pi/theta)\n",
    "    return (X,Y,Z)\n"
   ]
  },
  {
   "cell_type": "code",
   "execution_count": null,
   "metadata": {},
   "outputs": [],
   "source": [
    "\n",
    "Point1=[113.25,25.2] #Lon,Lat (Guangdong Province, China)\n",
    "Point2=[151.2,-33.88] #Lon, Lat (Sydney)\n",
    "d=np.dot(Geographic2Cartesian(Point1[0],Point1[1]),Geographic2Cartesian(Point2[0],Point2[1]))\n",
    "\n",
    "alpha=0.5 # Create a third point that is linear combination of first and second.\n",
    "beta = symbols('beta')\n",
    "\n",
    "eq1 = Eq(alpha*alpha + beta*beta + 2*alpha*beta*d -1.0,0)\n",
    "\n",
    "\n",
    "sol = solve(eq1)\n",
    "# sol[1]"
   ]
  },
  {
   "cell_type": "code",
   "execution_count": null,
   "metadata": {},
   "outputs": [],
   "source": [
    "a=0.5*np.asarray(Geographic2Cartesian(Point1[0],Point1[1]))\n",
    "\n",
    "b=sol[1]*np.asarray(Geographic2Cartesian(Point2[0],Point2[1]))\n",
    "# a+b\n",
    "\n",
    "pointsToWrite=[]\n",
    "pointsToWrite=np.append(pointsToWrite,Geographic2Cartesian(Point1[0],Point1[1]))\n",
    "pointsToWrite=np.append(pointsToWrite,a+b)\n",
    "pointsToWrite=np.append(pointsToWrite,Geographic2Cartesian(Point2[0],Point2[1]))\n",
    "\n",
    "# pointsToWrite=[Point]\n",
    "# here= '/Users/omer/Documents/Programming/PyGplates/'\n",
    "pointsToWriteShaped=pointsToWrite.reshape(int(len(pointsToWrite)/3),3)\n",
    "pointsToWriteShaped=np.asarray(pointsToWriteShaped,dtype='float64')\n",
    "\n",
    "\n",
    "#         print pointsToWriteShaped, \" : as ex.\"\n",
    "myconnectivity=[]\n",
    "\n",
    "for myindex in np.arange(0,int(len(pointsToWrite)/3 -1),1): # remove -1 to connect first and last points\n",
    "    myCells=[0]*2\n",
    "    myCells[0]=myindex\n",
    "    myCells[1]=myindex+1\n",
    "    myconnectivity.append(myCells)    \n",
    "    myconnectivityNumpy=np.asarray(myconnectivity)\n",
    "\n",
    "# myconnectivity=[0,1,2]\n",
    "# myconnectivityNumpy=np.asarray(myconnectivity)\n",
    "cells = {\"line\": myconnectivityNumpy}\n",
    "\n",
    "if len(pointsToWrite)<1:\n",
    "    pointsToWrite=[[0.,0.,0.],[0.01,0.01,0.01]]\n",
    "    pointsToWriteAr=np.asarray(pointsToWrite)\n",
    "    myconnectivityZero=[[0,1]]\n",
    "    myconnectivityZeroAr=np.asarray(myconnectivityZero)\n",
    "    cells2 = {\"line\": myconnectivityZeroAr} \n",
    "    meshio.write_points_cells(\"Endpoints-connected-by-1-point-in-between-on-great-circle.vtu\",pointsToWriteAr,cells2,file_format='vtu') \n",
    "else:\n",
    "    meshio.write_points_cells(\"Endpoints-connected-by-1-point-in-between-on-great-circle.vtu\",pointsToWriteShaped,cells,file_format='vtu')    \n",
    "\n",
    "\n",
    "\n"
   ]
  },
  {
   "cell_type": "markdown",
   "metadata": {},
   "source": [
    "# Connect two points along the great circle by adding 25 points in between."
   ]
  },
  {
   "cell_type": "code",
   "execution_count": null,
   "metadata": {},
   "outputs": [],
   "source": [
    "Point1=[113.25,25.2] #Lon,Lat (Guangdong Province, China)\n",
    "Point2=[151.2,-33.88] #Lon, Lat (Sydney)\n",
    "d=np.dot(Geographic2Cartesian(Point1[0],Point1[1]),Geographic2Cartesian(Point2[0],Point2[1]))\n",
    "\n",
    "pointsToWrite=[]\n",
    "pointsToWrite=np.append(pointsToWrite,Geographic2Cartesian(Point1[0],Point1[1]))\n",
    "\n",
    "for alpha in np.arange(0.95,0.05,-0.037):\n",
    "    \n",
    "    # alpha=0.5 # Create a third point that is linear combination of first and second.\n",
    "    beta = symbols('beta')\n",
    "\n",
    "    eq1 = Eq(alpha*alpha + beta*beta + 2*alpha*beta*d -1.0,0)\n",
    "\n",
    "\n",
    "    sol = solve(eq1)\n",
    "    a=float(alpha)*np.asarray(Geographic2Cartesian(Point1[0],Point1[1]))\n",
    "\n",
    "    b=sol[1]*np.asarray(Geographic2Cartesian(Point2[0],Point2[1]))\n",
    "\n",
    "\n",
    "    pointsToWrite=np.append(pointsToWrite,a+b)\n",
    "\n",
    "\n",
    "\n",
    "\n",
    "pointsToWrite=np.append(pointsToWrite,Geographic2Cartesian(Point2[0],Point2[1]))\n",
    "\n",
    "\n",
    "pointsToWrite=np.asarray(pointsToWrite,dtype='float64')\n",
    "\n",
    "pointsToWriteShaped=pointsToWrite.reshape(int(len(pointsToWrite)/3),3)\n",
    "myconnectivity=[]\n",
    "\n",
    "for myindex in np.arange(0,int(len(pointsToWrite)/3 -1),1): # remove -1 to connect first and last points\n",
    "    myCells=[0]*2\n",
    "    myCells[0]=myindex\n",
    "    myCells[1]=myindex+1\n",
    "    myconnectivity.append(myCells)    \n",
    "    myconnectivityNumpy=np.asarray(myconnectivity)\n",
    "\n",
    "    \n",
    "cells = {\"line\": myconnectivityNumpy}\n",
    "\n",
    "if len(pointsToWrite)<1:\n",
    "    pointsToWrite=[[0.,0.,0.],[0.01,0.01,0.01]]\n",
    "    pointsToWriteAr=np.asarray(pointsToWrite)\n",
    "    myconnectivityZero=[[0,1]]\n",
    "    myconnectivityZeroAr=np.asarray(myconnectivityZero)\n",
    "    cells2 = {\"line\": myconnectivityZeroAr} \n",
    "    meshio.write_points_cells(\"Endpoints-connected-through-25-sampled-points-in-between-on-great-circle.vtu\",pointsToWriteAr,cells2,file_format='vtu') \n",
    "else:\n",
    "    meshio.write_points_cells(\"Endpoints-connected-through-25-sampled-points-in-between-on-great-circle.vtu\",pointsToWriteShaped,cells,file_format='vtu')    \n",
    "\n",
    "\n",
    "\n",
    "\n"
   ]
  },
  {
   "cell_type": "code",
   "execution_count": null,
   "metadata": {},
   "outputs": [],
   "source": []
  }
 ],
 "metadata": {
  "kernelspec": {
   "display_name": "Python 3 (ipykernel)",
   "language": "python",
   "name": "python3"
  },
  "language_info": {
   "codemirror_mode": {
    "name": "ipython",
    "version": 3
   },
   "file_extension": ".py",
   "mimetype": "text/x-python",
   "name": "python",
   "nbconvert_exporter": "python",
   "pygments_lexer": "ipython3",
   "version": "3.8.13"
  }
 },
 "nbformat": 4,
 "nbformat_minor": 2
}
