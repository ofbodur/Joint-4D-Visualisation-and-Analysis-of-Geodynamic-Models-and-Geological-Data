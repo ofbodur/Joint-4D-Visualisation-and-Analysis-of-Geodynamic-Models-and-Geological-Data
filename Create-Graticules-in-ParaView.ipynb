{
 "cells": [
  {
   "cell_type": "markdown",
   "id": "aaf3abe1",
   "metadata": {},
   "source": [
    "# Create graticules in VTK format to visualise in ParaView"
   ]
  },
  {
   "cell_type": "code",
   "execution_count": null,
   "id": "df182ba9",
   "metadata": {},
   "outputs": [],
   "source": [
    "# if not installed please install meshio and numpy in separate cells\n",
    "# !pip install meshio"
   ]
  },
  {
   "cell_type": "code",
   "execution_count": null,
   "id": "a0569ee3",
   "metadata": {},
   "outputs": [],
   "source": [
    "# !pip install numpy"
   ]
  },
  {
   "cell_type": "code",
   "execution_count": null,
   "id": "ac8c059e",
   "metadata": {},
   "outputs": [],
   "source": [
    "import numpy as np\n",
    "import meshio"
   ]
  },
  {
   "cell_type": "markdown",
   "id": "d38fb304",
   "metadata": {},
   "source": [
    "## Meridians"
   ]
  },
  {
   "cell_type": "code",
   "execution_count": null,
   "id": "2acf3bfa",
   "metadata": {},
   "outputs": [],
   "source": [
    "Lon_of_Meridian=150 # Choose meridian longitude (creates as a great circle so choose between 0-180)\n",
    "Resolution=1 # in degrees\n",
    "Lons=Lon_of_Meridian*np.ones(int(360/Resolution),)\n",
    "Lats=np.arange(0,360,Resolution)\n",
    "\n",
    "\n",
    "pointsToWrite=[]\n",
    "count=0\n",
    "\n",
    "for index in Lons: # convert to cartesian coordinates\n",
    "    LatLon2D=np.array([index,Lats[count]])\n",
    "    X=np.cos(LatLon2D[1]*np.pi/180)*np.cos(LatLon2D[0]*np.pi/180)\n",
    "    Y=np.cos(LatLon2D[1]*np.pi/180)*np.sin(LatLon2D[0]*np.pi/180)\n",
    "    Z=np.sin(LatLon2D[1]*np.pi/180)\n",
    "    pointsToWrite=np.append(pointsToWrite,[X,Y,Z])\n",
    "    count=count+1\n",
    "    \n",
    "        \n",
    "pointsToWriteShaped=pointsToWrite.reshape(int(len(pointsToWrite)/3),3) # cartesian coordinates\n",
    "\n",
    "myconnectivity=[]\n",
    "\n",
    "for myindex in np.arange(0,len(pointsToWrite)/3-1,1):\n",
    "    myCells=[0]*2\n",
    "    myCells[0]=int(myindex)\n",
    "    myCells[1]=int(myindex)+1\n",
    "    myconnectivity.append(myCells)    \n",
    "\n",
    "myconnectivity.append([Lats[-1],Lats[0]]) #for meridians only\n",
    "# myconnectivity.append([179, 0]) #for parallels only\n",
    "\n",
    "\n",
    "\n",
    "myconnectivityNumpy=np.asarray(myconnectivity)\n",
    "   \n",
    "cells = {\"line\": myconnectivityNumpy}  # choose geometry\n",
    "\n",
    "FileName=\"Lon-\"+str(Lon_of_Meridian)+\".vtu\"\n",
    "\n",
    "meshio.write_points_cells(FileName,pointsToWriteShaped,cells,file_format='vtu')    \n",
    "\n"
   ]
  },
  {
   "cell_type": "markdown",
   "id": "7b5a4658",
   "metadata": {},
   "source": [
    "## Parallels"
   ]
  },
  {
   "cell_type": "code",
   "execution_count": null,
   "id": "e5f7cdec",
   "metadata": {},
   "outputs": [],
   "source": [
    "#Meridians\n",
    "Lat_of_Parallel= 30 # in degrees, choose between -90 and 90\n",
    "Resolution=1 # in degrees\n",
    "Lons=np.arange(0,360,Resolution)\n",
    "Lats=Lat_of_Parallel*np.ones(int(360/Resolution),)\n",
    "\n",
    "pointsToWrite=[]\n",
    "count=0\n",
    "\n",
    "for index in Lons: # convert to cartesian coordinates\n",
    "    LatLon2D=np.array([index,Lats[count]])\n",
    "    X=np.cos(LatLon2D[1]*np.pi/180)*np.cos(LatLon2D[0]*np.pi/180)\n",
    "    Y=np.cos(LatLon2D[1]*np.pi/180)*np.sin(LatLon2D[0]*np.pi/180)\n",
    "    Z=np.sin(LatLon2D[1]*np.pi/180)\n",
    "    pointsToWrite=np.append(pointsToWrite,[X,Y,Z])\n",
    "    count=count+1\n",
    "    \n",
    "        \n",
    "pointsToWriteShaped=pointsToWrite.reshape(int(len(pointsToWrite)/3),3) # cartesian coordinates\n",
    "\n",
    "myconnectivity=[]\n",
    "\n",
    "for myindex in np.arange(0,len(pointsToWrite)/3-1,1):\n",
    "    myCells=[0]*2\n",
    "    myCells[0]=int(myindex)\n",
    "    myCells[1]=int(myindex)+1\n",
    "    myconnectivity.append(myCells)    \n",
    "\n",
    "myconnectivity.append([Lons[-1],Lons[0]]) #for meridians only\n",
    "\n",
    "myconnectivityNumpy=np.asarray(myconnectivity)\n",
    "   \n",
    "cells = {\"line\": myconnectivityNumpy}  # choose geometry\n",
    "\n",
    "FileName=\"Lat-\"+str(Lat_of_Parallel)+\".vtu\"\n",
    "\n",
    "meshio.write_points_cells(FileName,pointsToWriteShaped,cells,file_format='vtu')    \n",
    "\n"
   ]
  }
 ],
 "metadata": {
  "kernelspec": {
   "display_name": "Python 3 (ipykernel)",
   "language": "python",
   "name": "python3"
  },
  "language_info": {
   "codemirror_mode": {
    "name": "ipython",
    "version": 3
   },
   "file_extension": ".py",
   "mimetype": "text/x-python",
   "name": "python",
   "nbconvert_exporter": "python",
   "pygments_lexer": "ipython3",
   "version": "3.8.13"
  }
 },
 "nbformat": 4,
 "nbformat_minor": 5
}
